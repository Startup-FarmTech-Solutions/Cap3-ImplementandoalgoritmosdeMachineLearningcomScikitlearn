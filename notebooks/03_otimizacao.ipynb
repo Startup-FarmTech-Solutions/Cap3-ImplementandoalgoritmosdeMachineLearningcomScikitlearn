{
 "cells": [
  {
   "cell_type": "code",
   "execution_count": null,
   "id": "b5c76103",
   "metadata": {},
   "outputs": [],
   "source": [
    "import pandas as pd\n",
    "from sklearn.model_selection import train_test_split, GridSearchCV\n",
    "from sklearn.preprocessing import LabelEncoder\n",
    "from sklearn.metrics import classification_report, confusion_matrix, accuracy_score\n",
    "import seaborn as sns\n",
    "import matplotlib.pyplot as plt\n",
    "import warnings\n",
    "warnings.filterwarnings(\"ignore\")"
   ]
  },
  {
   "cell_type": "code",
   "execution_count": null,
   "id": "e7d5d685",
   "metadata": {},
   "outputs": [],
   "source": [
    "# Carregar dados\n",
    "df = pd.read_csv('../dados/seeds_tratado.csv')\n",
    "\n",
    "X = df.drop('Class', axis=1)\n",
    "y = df['Class']\n",
    "\n",
    "le = LabelEncoder()\n",
    "y_encoded = le.fit_transform(y)\n",
    "\n",
    "X_train, X_test, y_train, y_test = train_test_split(X, y_encoded, test_size=0.3, random_state=42, stratify=y_encoded)"
   ]
  },
  {
   "cell_type": "code",
   "execution_count": null,
   "id": "872080a2",
   "metadata": {},
   "outputs": [],
   "source": [
    "from sklearn.neighbors import KNeighborsClassifier\n",
    "from sklearn.svm import SVC\n",
    "from sklearn.ensemble import RandomForestClassifier"
   ]
  },
  {
   "cell_type": "code",
   "execution_count": null,
   "id": "2d499259",
   "metadata": {},
   "outputs": [],
   "source": [
    "# GridSearch para KNN\n",
    "param_knn = {'n_neighbors': list(range(1, 21))}\n",
    "grid_knn = GridSearchCV(KNeighborsClassifier(), param_knn, cv=5)\n",
    "grid_knn.fit(X_train, y_train)\n",
    "\n",
    "best_knn = grid_knn.best_estimator_\n",
    "y_pred_knn = best_knn.predict(X_test)\n",
    "\n",
    "print(\"Melhores parâmetros KNN:\", grid_knn.best_params_)\n",
    "print(\"Acurácia:\", accuracy_score(y_test, y_pred_knn))\n",
    "print(\"Relatório de Classificação:\")\n",
    "print(classification_report(y_test, y_pred_knn, target_names=le.classes_))\n",
    "sns.heatmap(confusion_matrix(y_test, y_pred_knn), annot=True, fmt='d', cmap='Blues', xticklabels=le.classes_, yticklabels=le.classes_)\n",
    "plt.title(\"Matriz de Confusão - KNN Otimizado\")\n",
    "plt.xlabel(\"Previsto\")\n",
    "plt.ylabel(\"Real\")\n",
    "plt.show()"
   ]
  },
  {
   "cell_type": "code",
   "execution_count": null,
   "id": "a362c0c6",
   "metadata": {},
   "outputs": [],
   "source": [
    "# GridSearch para SVM\n",
    "param_svm = {'C': [0.1, 1, 10, 100], 'kernel': ['linear', 'rbf', 'poly']}\n",
    "grid_svm = GridSearchCV(SVC(), param_svm, cv=5)\n",
    "grid_svm.fit(X_train, y_train)\n",
    "\n",
    "best_svm = grid_svm.best_estimator_\n",
    "y_pred_svm = best_svm.predict(X_test)\n",
    "\n",
    "print(\"Melhores parâmetros SVM:\", grid_svm.best_params_)\n",
    "print(\"Acurácia:\", accuracy_score(y_test, y_pred_svm))\n",
    "print(\"Relatório de Classificação:\")\n",
    "print(classification_report(y_test, y_pred_svm, target_names=le.classes_))\n",
    "sns.heatmap(confusion_matrix(y_test, y_pred_svm), annot=True, fmt='d', cmap='Blues', xticklabels=le.classes_, yticklabels=le.classes_)\n",
    "plt.title(\"Matriz de Confusão - SVM Otimizado\")\n",
    "plt.xlabel(\"Previsto\")\n",
    "plt.ylabel(\"Real\")\n",
    "plt.show()"
   ]
  },
  {
   "cell_type": "code",
   "execution_count": null,
   "id": "30839a45",
   "metadata": {},
   "outputs": [],
   "source": [
    "# GridSearch para Random Forest\n",
    "param_rf = {\n",
    "    'n_estimators': [50, 100, 150],\n",
    "    'max_depth': [3, 5, 10, None]\n",
    "}\n",
    "grid_rf = GridSearchCV(RandomForestClassifier(random_state=42), param_rf, cv=5)\n",
    "grid_rf.fit(X_train, y_train)\n",
    "\n",
    "best_rf = grid_rf.best_estimator_\n",
    "y_pred_rf = best_rf.predict(X_test)\n",
    "\n",
    "print(\"Melhores parâmetros Random Forest:\", grid_rf.best_params_)\n",
    "print(\"Acurácia:\", accuracy_score(y_test, y_pred_rf))\n",
    "print(\"Relatório de Classificação:\")\n",
    "print(classification_report(y_test, y_pred_rf, target_names=le.classes_))\n",
    "sns.heatmap(confusion_matrix(y_test, y_pred_rf), annot=True, fmt='d', cmap='Blues', xticklabels=le.classes_, yticklabels=le.classes_)\n",
    "plt.title(\"Matriz de Confusão - Random Forest Otimizado\")\n",
    "plt.xlabel(\"Previsto\")\n",
    "plt.ylabel(\"Real\")\n",
    "plt.show()"
   ]
  }
 ],
 "metadata": {},
 "nbformat": 4,
 "nbformat_minor": 5
}
