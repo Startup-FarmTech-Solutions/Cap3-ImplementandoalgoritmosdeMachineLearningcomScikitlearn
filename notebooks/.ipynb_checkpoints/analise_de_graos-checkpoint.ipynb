{
 "cells": [
  {
   "cell_type": "markdown",
   "id": "9899a3e5-20e7-4b74-baeb-d3863d5e9cde",
   "metadata": {},
   "source": [
    "# sumario"
   ]
  },
  {
   "cell_type": "markdown",
   "id": "b24eaad5-c05d-4690-8e89-6be0aa1b3ea3",
   "metadata": {},
   "source": [
    "# 1. Introdução"
   ]
  },
  {
   "cell_type": "markdown",
   "id": "8dfead82-3b8d-47e8-a003-4ee5a9b30d21",
   "metadata": {},
   "source": [
    "A classificação de grãos é uma etapa fundamental no controle de qualidade dentro da cadeia produtiva agrícola. Atualmente, em muitas cooperativas de pequeno e médio porte, esse processo ainda é realizado de forma manual por especialistas, utilizando inspeção visual e ferramentas simples. Isso gera desafios como alta demanda de tempo, custos operacionais elevados e possíveis erros humanos, afetando diretamente a eficiência e a qualidade do produto final.\n",
    "\n",
    "Este projeto tem como foco o desenvolvimento de um sistema inteligente capaz de realizar a classificação automática de grãos de trigo com base em suas características físicas. A solução utiliza algoritmos de Machine Learning aplicados ao \"Seeds Dataset\" do UCI Machine Learning Repository, com amostras de três tipos de trigo: Kama, Rosa e Canadian.\n",
    "\n",
    "Além do desenvolvimento dos modelos, será criado um dashboard interativo utilizando Streamlit, que permitirá que qualquer usuário — mesmo sem conhecimento técnico — possa realizar classificações, visualizar análises e extrair informações úteis sobre os grãos analisados."
   ]
  },
  {
   "cell_type": "markdown",
   "id": "fefa0125-ee1d-4dfc-b2fd-f1a12c576d3a",
   "metadata": {},
   "source": [
    "# 1.2 instalação das bibliotecas"
   ]
  },
  {
   "cell_type": "code",
   "execution_count": 4,
   "id": "6cd2ab9d-9a7f-44fb-933e-9e27fe0e48b0",
   "metadata": {},
   "outputs": [
    {
     "name": "stdout",
     "output_type": "stream",
     "text": [
      "Requirement already satisfied: pandas in c:\\users\\vitor\\anaconda3\\envs\\cap3-iralem\\lib\\site-packages (2.3.0)\n",
      "Requirement already satisfied: numpy in c:\\users\\vitor\\anaconda3\\envs\\cap3-iralem\\lib\\site-packages (2.3.0)\n",
      "Requirement already satisfied: matplotlib in c:\\users\\vitor\\anaconda3\\envs\\cap3-iralem\\lib\\site-packages (3.10.3)\n",
      "Requirement already satisfied: seaborn in c:\\users\\vitor\\anaconda3\\envs\\cap3-iralem\\lib\\site-packages (0.13.2)\n",
      "Requirement already satisfied: scikit-learn in c:\\users\\vitor\\anaconda3\\envs\\cap3-iralem\\lib\\site-packages (1.7.0)\n",
      "Requirement already satisfied: python-dateutil>=2.8.2 in c:\\users\\vitor\\anaconda3\\envs\\cap3-iralem\\lib\\site-packages (from pandas) (2.9.0.post0)\n",
      "Requirement already satisfied: pytz>=2020.1 in c:\\users\\vitor\\anaconda3\\envs\\cap3-iralem\\lib\\site-packages (from pandas) (2025.2)\n",
      "Requirement already satisfied: tzdata>=2022.7 in c:\\users\\vitor\\anaconda3\\envs\\cap3-iralem\\lib\\site-packages (from pandas) (2025.2)\n",
      "Requirement already satisfied: contourpy>=1.0.1 in c:\\users\\vitor\\anaconda3\\envs\\cap3-iralem\\lib\\site-packages (from matplotlib) (1.3.2)\n",
      "Requirement already satisfied: cycler>=0.10 in c:\\users\\vitor\\anaconda3\\envs\\cap3-iralem\\lib\\site-packages (from matplotlib) (0.12.1)\n",
      "Requirement already satisfied: fonttools>=4.22.0 in c:\\users\\vitor\\anaconda3\\envs\\cap3-iralem\\lib\\site-packages (from matplotlib) (4.58.4)\n",
      "Requirement already satisfied: kiwisolver>=1.3.1 in c:\\users\\vitor\\anaconda3\\envs\\cap3-iralem\\lib\\site-packages (from matplotlib) (1.4.8)\n",
      "Requirement already satisfied: packaging>=20.0 in c:\\users\\vitor\\anaconda3\\envs\\cap3-iralem\\lib\\site-packages (from matplotlib) (24.2)\n",
      "Requirement already satisfied: pillow>=8 in c:\\users\\vitor\\anaconda3\\envs\\cap3-iralem\\lib\\site-packages (from matplotlib) (11.2.1)\n",
      "Requirement already satisfied: pyparsing>=2.3.1 in c:\\users\\vitor\\anaconda3\\envs\\cap3-iralem\\lib\\site-packages (from matplotlib) (3.2.3)\n",
      "Requirement already satisfied: scipy>=1.8.0 in c:\\users\\vitor\\anaconda3\\envs\\cap3-iralem\\lib\\site-packages (from scikit-learn) (1.15.3)\n",
      "Requirement already satisfied: joblib>=1.2.0 in c:\\users\\vitor\\anaconda3\\envs\\cap3-iralem\\lib\\site-packages (from scikit-learn) (1.5.1)\n",
      "Requirement already satisfied: threadpoolctl>=3.1.0 in c:\\users\\vitor\\anaconda3\\envs\\cap3-iralem\\lib\\site-packages (from scikit-learn) (3.6.0)\n",
      "Requirement already satisfied: six>=1.5 in c:\\users\\vitor\\anaconda3\\envs\\cap3-iralem\\lib\\site-packages (from python-dateutil>=2.8.2->pandas) (1.17.0)\n"
     ]
    }
   ],
   "source": [
    "# Instalação de pacotes necessários (rode apenas se ainda não tiver eles instalados no seu ambiente)\n",
    "\n",
    "# Para quem usa pip\n",
    "!pip install pandas numpy matplotlib seaborn scikit-learn\n",
    "\n",
    "# Para quem usa conda\n",
    "# !conda install pandas numpy matplotlib seaborn scikit-learn -y\n",
    "\n"
   ]
  },
  {
   "cell_type": "markdown",
   "id": "90592a7e-caa6-446d-a225-ec19019374f4",
   "metadata": {},
   "source": [
    "## 1.3 importação das bibliotecas"
   ]
  },
  {
   "cell_type": "code",
   "execution_count": 5,
   "id": "397a33f1-9049-41f1-846e-e8201f569167",
   "metadata": {},
   "outputs": [
    {
     "name": "stdout",
     "output_type": "stream",
     "text": [
      "C:\\Users\\vitor\\anaconda3\\envs\\cap3-iralem\\python.exe\n"
     ]
    }
   ],
   "source": [
    "# Verificar o interpretador em uso (opcional, só pra conferência)\n",
    "import sys\n",
    "print(sys.executable)\n",
    "\n",
    "# Manipulação de dados\n",
    "import pandas as pd\n",
    "import numpy as np\n",
    "\n",
    "# Visualização\n",
    "import matplotlib.pyplot as plt\n",
    "import seaborn as sns\n",
    "\n",
    "# Machine Learning\n",
    "from sklearn.preprocessing import StandardScaler, LabelEncoder\n",
    "from sklearn.model_selection import train_test_split, GridSearchCV\n",
    "from sklearn.metrics import accuracy_score, classification_report, confusion_matrix\n",
    "\n",
    "# Ignorar warnings\n",
    "import warnings\n",
    "warnings.filterwarnings(\"ignore\")\n"
   ]
  },
  {
   "cell_type": "markdown",
   "id": "7b656a1e-3f6a-4293-b0a6-97388b83a977",
   "metadata": {},
   "source": [
    "# 2. processamento de dados"
   ]
  },
  {
   "cell_type": "markdown",
   "id": "5b90a066-3ad8-4fda-ba5a-c905171470e4",
   "metadata": {},
   "source": [
    "## 2.1 Carregando dados"
   ]
  },
  {
   "cell_type": "code",
   "execution_count": 6,
   "id": "67754a4e-3a8d-4320-a1d9-0cb2bf0db8e4",
   "metadata": {},
   "outputs": [
    {
     "name": "stdout",
     "output_type": "stream",
     "text": [
      "C:\\Users\\vitor\\Documents\\GitHub\\Cap3-ImplementandoalgoritmosdeMachineLearningcomScikitlearn\\notebooks\n"
     ]
    },
    {
     "data": {
      "text/html": [
       "<div>\n",
       "<style scoped>\n",
       "    .dataframe tbody tr th:only-of-type {\n",
       "        vertical-align: middle;\n",
       "    }\n",
       "\n",
       "    .dataframe tbody tr th {\n",
       "        vertical-align: top;\n",
       "    }\n",
       "\n",
       "    .dataframe thead th {\n",
       "        text-align: right;\n",
       "    }\n",
       "</style>\n",
       "<table border=\"1\" class=\"dataframe\">\n",
       "  <thead>\n",
       "    <tr style=\"text-align: right;\">\n",
       "      <th></th>\n",
       "      <th>Area</th>\n",
       "      <th>Perimeter</th>\n",
       "      <th>Compactness</th>\n",
       "      <th>Kernel_Length</th>\n",
       "      <th>Kernel_Width</th>\n",
       "      <th>Asymmetry_Coeff</th>\n",
       "      <th>Groove_Length</th>\n",
       "      <th>Class</th>\n",
       "    </tr>\n",
       "  </thead>\n",
       "  <tbody>\n",
       "    <tr>\n",
       "      <th>0</th>\n",
       "      <td>15.26</td>\n",
       "      <td>14.84</td>\n",
       "      <td>0.8710</td>\n",
       "      <td>5.763</td>\n",
       "      <td>3.312</td>\n",
       "      <td>2.221</td>\n",
       "      <td>5.220</td>\n",
       "      <td>1</td>\n",
       "    </tr>\n",
       "    <tr>\n",
       "      <th>1</th>\n",
       "      <td>14.88</td>\n",
       "      <td>14.57</td>\n",
       "      <td>0.8811</td>\n",
       "      <td>5.554</td>\n",
       "      <td>3.333</td>\n",
       "      <td>1.018</td>\n",
       "      <td>4.956</td>\n",
       "      <td>1</td>\n",
       "    </tr>\n",
       "    <tr>\n",
       "      <th>2</th>\n",
       "      <td>14.29</td>\n",
       "      <td>14.09</td>\n",
       "      <td>0.9050</td>\n",
       "      <td>5.291</td>\n",
       "      <td>3.337</td>\n",
       "      <td>2.699</td>\n",
       "      <td>4.825</td>\n",
       "      <td>1</td>\n",
       "    </tr>\n",
       "    <tr>\n",
       "      <th>3</th>\n",
       "      <td>13.84</td>\n",
       "      <td>13.94</td>\n",
       "      <td>0.8955</td>\n",
       "      <td>5.324</td>\n",
       "      <td>3.379</td>\n",
       "      <td>2.259</td>\n",
       "      <td>4.805</td>\n",
       "      <td>1</td>\n",
       "    </tr>\n",
       "    <tr>\n",
       "      <th>4</th>\n",
       "      <td>16.14</td>\n",
       "      <td>14.99</td>\n",
       "      <td>0.9034</td>\n",
       "      <td>5.658</td>\n",
       "      <td>3.562</td>\n",
       "      <td>1.355</td>\n",
       "      <td>5.175</td>\n",
       "      <td>1</td>\n",
       "    </tr>\n",
       "  </tbody>\n",
       "</table>\n",
       "</div>"
      ],
      "text/plain": [
       "    Area  Perimeter  Compactness  Kernel_Length  Kernel_Width  \\\n",
       "0  15.26      14.84       0.8710          5.763         3.312   \n",
       "1  14.88      14.57       0.8811          5.554         3.333   \n",
       "2  14.29      14.09       0.9050          5.291         3.337   \n",
       "3  13.84      13.94       0.8955          5.324         3.379   \n",
       "4  16.14      14.99       0.9034          5.658         3.562   \n",
       "\n",
       "   Asymmetry_Coeff  Groove_Length  Class  \n",
       "0            2.221          5.220      1  \n",
       "1            1.018          4.956      1  \n",
       "2            2.699          4.825      1  \n",
       "3            2.259          4.805      1  \n",
       "4            1.355          5.175      1  "
      ]
     },
     "execution_count": 6,
     "metadata": {},
     "output_type": "execute_result"
    }
   ],
   "source": [
    "import os\n",
    "print(os.getcwd())\n",
    "\n",
    "colunas = ['Area', 'Perimeter', 'Compactness', 'Kernel_Length',\n",
    "           'Kernel_Width', 'Asymmetry_Coeff', 'Groove_Length', 'Class']\n",
    "\n",
    "df = pd.read_csv('../dados/processados/seeds_dataset.txt', delim_whitespace=True, names=colunas)\n",
    "df.head()"
   ]
  },
  {
   "cell_type": "code",
   "execution_count": 7,
   "id": "f0b8ff22-758b-4446-bc11-ce8480cc6f03",
   "metadata": {},
   "outputs": [
    {
     "data": {
      "text/html": [
       "<div>\n",
       "<style scoped>\n",
       "    .dataframe tbody tr th:only-of-type {\n",
       "        vertical-align: middle;\n",
       "    }\n",
       "\n",
       "    .dataframe tbody tr th {\n",
       "        vertical-align: top;\n",
       "    }\n",
       "\n",
       "    .dataframe thead th {\n",
       "        text-align: right;\n",
       "    }\n",
       "</style>\n",
       "<table border=\"1\" class=\"dataframe\">\n",
       "  <thead>\n",
       "    <tr style=\"text-align: right;\">\n",
       "      <th></th>\n",
       "      <th>Area</th>\n",
       "      <th>Perimeter</th>\n",
       "      <th>Compactness</th>\n",
       "      <th>Kernel_Length</th>\n",
       "      <th>Kernel_Width</th>\n",
       "      <th>Asymmetry_Coeff</th>\n",
       "      <th>Groove_Length</th>\n",
       "      <th>Class</th>\n",
       "    </tr>\n",
       "  </thead>\n",
       "  <tbody>\n",
       "    <tr>\n",
       "      <th>count</th>\n",
       "      <td>210.000000</td>\n",
       "      <td>210.000000</td>\n",
       "      <td>210.000000</td>\n",
       "      <td>210.000000</td>\n",
       "      <td>210.000000</td>\n",
       "      <td>210.000000</td>\n",
       "      <td>210.000000</td>\n",
       "      <td>210.000000</td>\n",
       "    </tr>\n",
       "    <tr>\n",
       "      <th>mean</th>\n",
       "      <td>14.847524</td>\n",
       "      <td>14.559286</td>\n",
       "      <td>0.870999</td>\n",
       "      <td>5.628533</td>\n",
       "      <td>3.258605</td>\n",
       "      <td>3.700201</td>\n",
       "      <td>5.408071</td>\n",
       "      <td>2.000000</td>\n",
       "    </tr>\n",
       "    <tr>\n",
       "      <th>std</th>\n",
       "      <td>2.909699</td>\n",
       "      <td>1.305959</td>\n",
       "      <td>0.023629</td>\n",
       "      <td>0.443063</td>\n",
       "      <td>0.377714</td>\n",
       "      <td>1.503557</td>\n",
       "      <td>0.491480</td>\n",
       "      <td>0.818448</td>\n",
       "    </tr>\n",
       "    <tr>\n",
       "      <th>min</th>\n",
       "      <td>10.590000</td>\n",
       "      <td>12.410000</td>\n",
       "      <td>0.808100</td>\n",
       "      <td>4.899000</td>\n",
       "      <td>2.630000</td>\n",
       "      <td>0.765100</td>\n",
       "      <td>4.519000</td>\n",
       "      <td>1.000000</td>\n",
       "    </tr>\n",
       "    <tr>\n",
       "      <th>25%</th>\n",
       "      <td>12.270000</td>\n",
       "      <td>13.450000</td>\n",
       "      <td>0.856900</td>\n",
       "      <td>5.262250</td>\n",
       "      <td>2.944000</td>\n",
       "      <td>2.561500</td>\n",
       "      <td>5.045000</td>\n",
       "      <td>1.000000</td>\n",
       "    </tr>\n",
       "    <tr>\n",
       "      <th>50%</th>\n",
       "      <td>14.355000</td>\n",
       "      <td>14.320000</td>\n",
       "      <td>0.873450</td>\n",
       "      <td>5.523500</td>\n",
       "      <td>3.237000</td>\n",
       "      <td>3.599000</td>\n",
       "      <td>5.223000</td>\n",
       "      <td>2.000000</td>\n",
       "    </tr>\n",
       "    <tr>\n",
       "      <th>75%</th>\n",
       "      <td>17.305000</td>\n",
       "      <td>15.715000</td>\n",
       "      <td>0.887775</td>\n",
       "      <td>5.979750</td>\n",
       "      <td>3.561750</td>\n",
       "      <td>4.768750</td>\n",
       "      <td>5.877000</td>\n",
       "      <td>3.000000</td>\n",
       "    </tr>\n",
       "    <tr>\n",
       "      <th>max</th>\n",
       "      <td>21.180000</td>\n",
       "      <td>17.250000</td>\n",
       "      <td>0.918300</td>\n",
       "      <td>6.675000</td>\n",
       "      <td>4.033000</td>\n",
       "      <td>8.456000</td>\n",
       "      <td>6.550000</td>\n",
       "      <td>3.000000</td>\n",
       "    </tr>\n",
       "  </tbody>\n",
       "</table>\n",
       "</div>"
      ],
      "text/plain": [
       "             Area   Perimeter  Compactness  Kernel_Length  Kernel_Width  \\\n",
       "count  210.000000  210.000000   210.000000     210.000000    210.000000   \n",
       "mean    14.847524   14.559286     0.870999       5.628533      3.258605   \n",
       "std      2.909699    1.305959     0.023629       0.443063      0.377714   \n",
       "min     10.590000   12.410000     0.808100       4.899000      2.630000   \n",
       "25%     12.270000   13.450000     0.856900       5.262250      2.944000   \n",
       "50%     14.355000   14.320000     0.873450       5.523500      3.237000   \n",
       "75%     17.305000   15.715000     0.887775       5.979750      3.561750   \n",
       "max     21.180000   17.250000     0.918300       6.675000      4.033000   \n",
       "\n",
       "       Asymmetry_Coeff  Groove_Length       Class  \n",
       "count       210.000000     210.000000  210.000000  \n",
       "mean          3.700201       5.408071    2.000000  \n",
       "std           1.503557       0.491480    0.818448  \n",
       "min           0.765100       4.519000    1.000000  \n",
       "25%           2.561500       5.045000    1.000000  \n",
       "50%           3.599000       5.223000    2.000000  \n",
       "75%           4.768750       5.877000    3.000000  \n",
       "max           8.456000       6.550000    3.000000  "
      ]
     },
     "execution_count": 7,
     "metadata": {},
     "output_type": "execute_result"
    }
   ],
   "source": [
    "df.describe()"
   ]
  },
  {
   "cell_type": "markdown",
   "id": "d731adde-4754-4572-94d9-bae9067052b9",
   "metadata": {},
   "source": [
    "## 2.2 dados faltantes ou nulos"
   ]
  },
  {
   "cell_type": "markdown",
   "id": "f2cbc727-d45c-47bf-b423-f3f707332df8",
   "metadata": {},
   "source": [
    "nessa etapa seraverificado se existem valores ausentes (nulos)."
   ]
  },
  {
   "cell_type": "code",
   "execution_count": 8,
   "id": "38aa6d71-7509-4a1d-b159-502a6f15e757",
   "metadata": {},
   "outputs": [
    {
     "data": {
      "text/plain": [
       "Area               0\n",
       "Perimeter          0\n",
       "Compactness        0\n",
       "Kernel_Length      0\n",
       "Kernel_Width       0\n",
       "Asymmetry_Coeff    0\n",
       "Groove_Length      0\n",
       "Class              0\n",
       "dtype: int64"
      ]
     },
     "execution_count": 8,
     "metadata": {},
     "output_type": "execute_result"
    }
   ],
   "source": [
    "df.isnull().sum()"
   ]
  },
  {
   "cell_type": "markdown",
   "id": "3edf406c-784b-4709-bd5c-24d894d5c460",
   "metadata": {},
   "source": [
    "pode-se concluir que nenhuma coluna de dados apresenta valores nulos"
   ]
  },
  {
   "cell_type": "code",
   "execution_count": null,
   "id": "bec9af5e-f847-4c83-8eb4-b4ecb5fb81e4",
   "metadata": {},
   "outputs": [],
   "source": []
  }
 ],
 "metadata": {
  "kernelspec": {
   "display_name": "Python 3 (ipykernel)",
   "language": "python",
   "name": "python3"
  },
  "language_info": {
   "codemirror_mode": {
    "name": "ipython",
    "version": 3
   },
   "file_extension": ".py",
   "mimetype": "text/x-python",
   "name": "python",
   "nbconvert_exporter": "python",
   "pygments_lexer": "ipython3",
   "version": "3.12.11"
  }
 },
 "nbformat": 4,
 "nbformat_minor": 5
}
