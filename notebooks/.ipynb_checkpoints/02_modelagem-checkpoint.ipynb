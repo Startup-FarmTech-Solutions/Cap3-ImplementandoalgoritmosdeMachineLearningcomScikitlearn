{
 "cells": [
  {
   "cell_type": "code",
   "execution_count": null,
   "id": "02bbcebf",
   "metadata": {},
   "outputs": [],
   "source": [
    "import pandas as pd\n",
    "from sklearn.model_selection import train_test_split\n",
    "from sklearn.preprocessing import LabelEncoder\n",
    "from sklearn.metrics import accuracy_score, classification_report, confusion_matrix\n",
    "import seaborn as sns\n",
    "import matplotlib.pyplot as plt"
   ]
  },
  {
   "cell_type": "code",
   "execution_count": null,
   "id": "6855a769",
   "metadata": {},
   "outputs": [],
   "source": [
    "# Carregar dados tratados\n",
    "df = pd.read_csv('../dados/seeds_tratado.csv')\n",
    "\n",
    "X = df.drop('Class', axis=1)\n",
    "y = df['Class']\n",
    "\n",
    "# Codificar classes\n",
    "le = LabelEncoder()\n",
    "y_encoded = le.fit_transform(y)\n",
    "\n",
    "# Dividir em treino e teste\n",
    "X_train, X_test, y_train, y_test = train_test_split(X, y_encoded, test_size=0.3, random_state=42, stratify=y_encoded)"
   ]
  },
  {
   "cell_type": "code",
   "execution_count": null,
   "id": "d580a2d7",
   "metadata": {},
   "outputs": [],
   "source": [
    "# Importar algoritmos\n",
    "from sklearn.neighbors import KNeighborsClassifier\n",
    "from sklearn.svm import SVC\n",
    "from sklearn.ensemble import RandomForestClassifier\n",
    "from sklearn.naive_bayes import GaussianNB\n",
    "from sklearn.linear_model import LogisticRegression"
   ]
  },
  {
   "cell_type": "code",
   "execution_count": null,
   "id": "d8f7238c",
   "metadata": {},
   "outputs": [],
   "source": [
    "# Criar modelos\n",
    "modelos = {\n",
    "    \"KNN\": KNeighborsClassifier(),\n",
    "    \"SVM\": SVC(),\n",
    "    \"Random Forest\": RandomForestClassifier(),\n",
    "    \"Naive Bayes\": GaussianNB(),\n",
    "    \"Logistic Regression\": LogisticRegression(max_iter=1000)\n",
    "}"
   ]
  },
  {
   "cell_type": "code",
   "execution_count": null,
   "id": "0fb012c0",
   "metadata": {},
   "outputs": [],
   "source": [
    "# Treinar e avaliar modelos\n",
    "resultados = {}\n",
    "\n",
    "for nome, modelo in modelos.items():\n",
    "    modelo.fit(X_train, y_train)\n",
    "    y_pred = modelo.predict(X_test)\n",
    "\n",
    "    acc = accuracy_score(y_test, y_pred)\n",
    "    report = classification_report(y_test, y_pred, target_names=le.classes_, output_dict=True)\n",
    "    cm = confusion_matrix(y_test, y_pred)\n",
    "\n",
    "    resultados[nome] = {\n",
    "        \"Acurácia\": acc,\n",
    "        \"Relatório\": report,\n",
    "        \"Matriz de Confusão\": cm\n",
    "    }\n",
    "\n",
    "    print(f\"Modelo: {nome}\")\n",
    "    print(f\"Acurácia: {acc:.4f}\")\n",
    "    print(\"Relatório de Classificação:\")\n",
    "    print(classification_report(y_test, y_pred, target_names=le.classes_))\n",
    "    print(\"Matriz de Confusão:\")\n",
    "    sns.heatmap(cm, annot=True, fmt='d', cmap='Blues', xticklabels=le.classes_, yticklabels=le.classes_)\n",
    "    plt.title(f\"Matriz de Confusão - {nome}\")\n",
    "    plt.xlabel(\"Previsto\")\n",
    "    plt.ylabel(\"Real\")\n",
    "    plt.show()"
   ]
  }
 ],
 "metadata": {},
 "nbformat": 4,
 "nbformat_minor": 5
}
