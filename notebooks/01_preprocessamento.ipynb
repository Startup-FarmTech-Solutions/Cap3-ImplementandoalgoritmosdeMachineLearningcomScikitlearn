{
 "cells": [
  {
   "cell_type": "code",
   "execution_count": null,
   "id": "8320038f",
   "metadata": {},
   "outputs": [],
   "source": [
    "import pandas as pd\n",
    "import numpy as np\n",
    "import matplotlib.pyplot as plt\n",
    "import seaborn as sns\n",
    "\n",
    "from sklearn.preprocessing import StandardScaler"
   ]
  },
  {
   "cell_type": "code",
   "execution_count": null,
   "id": "a38c8a1a",
   "metadata": {},
   "outputs": [],
   "source": [
    "colunas = ['Area', 'Perimeter', 'Compactness', 'Kernel_Length',\n",
    "           'Kernel_Width', 'Asymmetry_Coeff', 'Groove_Length', 'Class']\n",
    "\n",
    "df = pd.read_csv('../dados/seeds_dataset.txt', delim_whitespace=True, names=colunas)\n",
    "df.head()"
   ]
  },
  {
   "cell_type": "code",
   "execution_count": null,
   "id": "4eb2acaf",
   "metadata": {},
   "outputs": [],
   "source": [
    "df.describe()"
   ]
  },
  {
   "cell_type": "code",
   "execution_count": null,
   "id": "6d56b20a",
   "metadata": {},
   "outputs": [],
   "source": [
    "df.isnull().sum()"
   ]
  },
  {
   "cell_type": "code",
   "execution_count": null,
   "id": "8714b9c5",
   "metadata": {},
   "outputs": [],
   "source": [
    "df.hist(figsize=(12,8), bins=15)\n",
    "plt.tight_layout()\n",
    "plt.show()"
   ]
  },
  {
   "cell_type": "code",
   "execution_count": null,
   "id": "8ed105be",
   "metadata": {},
   "outputs": [],
   "source": [
    "plt.figure(figsize=(12,6))\n",
    "sns.boxplot(data=df)\n",
    "plt.xticks(rotation=45)\n",
    "plt.title(\"Boxplots dos atributos\")\n",
    "plt.show()"
   ]
  },
  {
   "cell_type": "code",
   "execution_count": null,
   "id": "45aa8d9d",
   "metadata": {},
   "outputs": [],
   "source": [
    "plt.figure(figsize=(10,8))\n",
    "sns.heatmap(df.corr(), annot=True, cmap='coolwarm')\n",
    "plt.title(\"Matriz de Correlação\")\n",
    "plt.show()"
   ]
  },
  {
   "cell_type": "code",
   "execution_count": null,
   "id": "578bd7e7",
   "metadata": {},
   "outputs": [],
   "source": [
    "df['Class'].value_counts()\n",
    "df['Class'] = df['Class'].replace({1: 'Kama', 2: 'Rosa', 3: 'Canadian'})"
   ]
  },
  {
   "cell_type": "code",
   "execution_count": null,
   "id": "8c613aa1",
   "metadata": {},
   "outputs": [],
   "source": [
    "X = df.drop('Class', axis=1)\n",
    "y = df['Class']\n",
    "\n",
    "scaler = StandardScaler()\n",
    "X_scaled = scaler.fit_transform(X)"
   ]
  },
  {
   "cell_type": "code",
   "execution_count": null,
   "id": "0a26d576",
   "metadata": {},
   "outputs": [],
   "source": [
    "df_scaled = pd.DataFrame(X_scaled, columns=X.columns)\n",
    "df_scaled['Class'] = y.values\n",
    "df_scaled.to_csv('../dados/seeds_tratado.csv', index=False)"
   ]
  },
  {
   "cell_type": "markdown",
   "id": "8c8a0564",
   "metadata": {},
   "source": [
    "# Salvando o dataset processado\n",
    "df_scaled.to_csv('../dados/processados/seeds_dataset_processado.csv', index=False)\n"
   ]
  }
 ],
 "metadata": {
  "language_info": {
   "name": "python"
  }
 },
 "nbformat": 4,
 "nbformat_minor": 5
}
